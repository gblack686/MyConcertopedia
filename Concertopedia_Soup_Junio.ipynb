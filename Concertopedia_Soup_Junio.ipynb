{
 "cells": [
  {
   "cell_type": "code",
   "execution_count": 1,
   "metadata": {},
   "outputs": [],
   "source": [
    "from imagesoup import ImageSoup\n",
    "import requests\n",
    "import datetime"
   ]
  },
  {
   "cell_type": "code",
   "execution_count": 21,
   "metadata": {},
   "outputs": [
    {
     "data": {
      "text/plain": [
       "'02.06.19'"
      ]
     },
     "execution_count": 21,
     "metadata": {},
     "output_type": "execute_result"
    }
   ],
   "source": [
    "todays_date = datetime.datetime.now().strftime(\"%d.%m.%y\")\n",
    "todays_date"
   ]
  },
  {
   "cell_type": "code",
   "execution_count": 3,
   "metadata": {},
   "outputs": [],
   "source": [
    "import os\n",
    "os.makedirs(\"concertopedia_links_\"+todays_date)"
   ]
  },
  {
   "cell_type": "code",
   "execution_count": 4,
   "metadata": {
    "scrolled": true
   },
   "outputs": [
    {
     "data": {
      "text/plain": [
       "'C:\\\\Users\\\\gblac\\\\Desktop\\\\PandaFiles\\\\PersonalRepo\\\\Miscellaneous\\\\concertopedia_links_01.06.19.17.59'"
      ]
     },
     "execution_count": 4,
     "metadata": {},
     "output_type": "execute_result"
    }
   ],
   "source": [
    "pwd = %pwd\n",
    "folder = pwd+\"\\\\concertopedia_links_\"+str(todays_date)\n",
    "folder"
   ]
  },
  {
   "cell_type": "code",
   "execution_count": 5,
   "metadata": {},
   "outputs": [
    {
     "name": "stdout",
     "output_type": "stream",
     "text": [
      "Enter DJ name: Latmun\n",
      "Enter DJ name: \n",
      "['Latmun']\n"
     ]
    }
   ],
   "source": [
    "djs = []\n",
    "while djs != '':\n",
    "    dj = str(input('Enter DJ name: '))\n",
    "    if not dj:\n",
    "        break\n",
    "    djs.append(dj)\n",
    "print(djs)"
   ]
  },
  {
   "cell_type": "code",
   "execution_count": 6,
   "metadata": {},
   "outputs": [
    {
     "name": "stdout",
     "output_type": "stream",
     "text": [
      "Enter Band name: Justice\n",
      "Enter Band name: \n",
      "['Justice']\n"
     ]
    }
   ],
   "source": [
    "bands = []\n",
    "while bands != '':\n",
    "    band = str(input('Enter Band name: '))\n",
    "    if not band:\n",
    "        break\n",
    "    bands.append(band)\n",
    "print(bands)"
   ]
  },
  {
   "cell_type": "code",
   "execution_count": 7,
   "metadata": {},
   "outputs": [
    {
     "name": "stdout",
     "output_type": "stream",
     "text": [
      "Enter Venue name: LA Exposition Park\n",
      "Enter Venue name: \n",
      "['LA Exposition Park']\n"
     ]
    }
   ],
   "source": [
    "venues = []\n",
    "while venues != '':\n",
    "    venue = str(input('Enter Venue name: '))\n",
    "    if not venue:\n",
    "        break\n",
    "    venues.append(venue)\n",
    "print(venues)"
   ]
  },
  {
   "cell_type": "code",
   "execution_count": 8,
   "metadata": {},
   "outputs": [],
   "source": [
    "band_searches = []\n",
    "for x in bands:\n",
    "    band_searches.append(x+' band')\n",
    "    band_searches.append(x+' Live')\n",
    "    band_searches.append(x+' Logo')\n",
    "    band_searches.append(x+' Guitarist')\n",
    "    band_searches.append(x+' Drummer')\n",
    "    band_searches.append(x+' Bassist')\n",
    "    band_searches.append(x+' Singer')\n",
    "    band_searches.append(x+' Keyboardist')\n",
    "venue_searches = []\n",
    "for x in venues:\n",
    "    venue_searches.append(x+' venue')\n",
    "    venue_searches.append(x+' stage')\n",
    "    venue_searches.append(x+' logo')\n",
    "dj_searches = []\n",
    "for x in djs:\n",
    "    dj_searches.append(x+' dj')\n",
    "    dj_searches.append(x+' live')\n",
    "    dj_searches.append(x+' logo')"
   ]
  },
  {
   "cell_type": "code",
   "execution_count": 9,
   "metadata": {},
   "outputs": [
    {
     "data": {
      "text/plain": [
       "56"
      ]
     },
     "execution_count": 9,
     "metadata": {},
     "output_type": "execute_result"
    }
   ],
   "source": [
    "search_terms = venue_searches+dj_searches+band_searches\n",
    "len(search_terms)*4"
   ]
  },
  {
   "cell_type": "code",
   "execution_count": 10,
   "metadata": {},
   "outputs": [],
   "source": [
    "image_dict = {}\n",
    "soup = ImageSoup()\n",
    "for term in search_terms[:]:\n",
    "    try:\n",
    "        images = soup.search(term, image_size='medium', n_images=4)\n",
    "    except:\n",
    "        continue\n",
    "    links = []\n",
    "    for y in images:\n",
    "        links.append(y.URL)\n",
    "    image_dict[term] = links"
   ]
  },
  {
   "cell_type": "code",
   "execution_count": 11,
   "metadata": {},
   "outputs": [],
   "source": [
    "for k,v in image_dict.items():\n",
    "    counter = 0\n",
    "    for y in v:\n",
    "#         print(y)\n",
    "        try:\n",
    "            r = requests.get(y, allow_redirects=True)\n",
    "            filename = folder+'\\\\'+str(k)+'_'+str(counter)+'.jpg'\n",
    "            open(filename, 'wb').write(r.content)\n",
    "            counter += 1\n",
    "        except:\n",
    "            continue\n"
   ]
  },
  {
   "cell_type": "code",
   "execution_count": 12,
   "metadata": {},
   "outputs": [
    {
     "data": {
      "text/plain": [
       "{'LA Exposition Park venue': ['https://images.box-officetickets.com/venues/12143.jpg',\n",
       "  'http://www.ust.ucla.edu/ustweb/Projects/ExpoPark/ExpoPark_01_big.jpg',\n",
       "  'https://urbanize.la/sites/default/files/styles/2018_article_image_1140x538/public/Banc%20of%20California%20Stadium%20by%20Hunter%20Kerhart%202.jpg?itok=8HbvZveT',\n",
       "  'http://expositionpark.ca.gov/wp-content/uploads/2018/05/Exposition-Park-Map-Reduced-e1525387976567.jpg'],\n",
       " 'LA Exposition Park stage': ['https://www.dailynews.com/wp-content/uploads/2018/03/0724_nws_ldn-l-fyf-solange05_242118251.jpg?w=620',\n",
       "  'https://media.gettyimages.com/photos/yukimi-nagano-of-little-dragon-performs-on-stage-in-exposition-park-picture-id821397052',\n",
       "  'https://media.gettyimages.com/photos/bardo-martinez-of-chicano-batman-performs-on-stage-in-exposition-park-picture-id821396998',\n",
       "  'https://media.gettyimages.com/photos/ty-segall-performs-on-stage-in-exposition-park-during-day-3-of-fyf-picture-id821396924'],\n",
       " 'LA Exposition Park logo': ['https://pro2-bar-s3-cdn-cf6.myportfolio.com/5becd70d314470f1e0120a5b65eb133f/7d0d1244ab00122e501dd56e_rw_600.png?h=9d5aa486a3cc03d6d31be3e70d1f2876',\n",
       "  'https://pbs.twimg.com/profile_images/478641059849707521/1wZK7A5K.jpeg',\n",
       "  'https://d3n8a8pro7vhmx.cloudfront.net/epmp/pages/32/meta_images/original/expopark_og.jpg?1529994212',\n",
       "  'https://upload.wikimedia.org/wikipedia/commons/0/00/Los_angeles_expo_park_entrance.jpg'],\n",
       " 'Latmun dj': ['https://www.clubbingspain.com/imagenes/Latmun-2017.jpg',\n",
       "  'https://geo-media.beatport.com/image/f97eb7ea-5904-49ba-a795-c64d5008614d.jpg',\n",
       "  'https://www.residentadvisor.net/images/profiles/lg/Latmun.jpg',\n",
       "  'https://d23sy9fe9womrt.cloudfront.net/1/31871_1_latmun-interview-the-rush_ban.jpg'],\n",
       " 'Latmun live': ['https://i1.sndcdn.com/avatars-000603283599-9m7kmm-t500x500.jpg',\n",
       "  'https://i1.sndcdn.com/artworks-000357862251-noqxu8-t500x500.jpg',\n",
       "  'https://gallery.viciousmagazine.com/wp-content/uploads/2018/09/users/000000/latmun-1-1024x683.jpg',\n",
       "  'https://i1.sndcdn.com/artworks-000382183530-6mdi19-t500x500.jpg'],\n",
       " 'Latmun logo': ['https://www.residentadvisor.net/images/events/flyer/2016/1/uk-0116-789432-front.jpg',\n",
       "  'https://lookaside.fbsbx.com/lookaside/crawler/media/?media_id=880810818739969',\n",
       "  'https://image-ticketfly.imgix.net/00/03/02/92/60-og.jpg?w=500&h=334&fit=crop&crop=top',\n",
       "  'https://i.ytimg.com/vi/VPCMq1E5YQw/hqdefault.jpg'],\n",
       " 'Justice band': ['https://mixmag.net/assets/uploads/images/_facebook/87840/justice-band-woman-album-stream.jpg',\n",
       "  'https://media.pitchfork.com/photos/592c6ed45e6ef95969328302/2:1/w_648/80446e40.jpg',\n",
       "  'https://consequenceofsound.net/wp-content/uploads/2018/05/justice-safe-sound-song-single-new-mp3-stream.png',\n",
       "  'https://mixmag.net/assets/uploads/images/_facebook/justicemain.jpg'],\n",
       " 'Justice Live': ['https://i.ytimg.com/vi/K8j9eaBz-RM/hqdefault.jpg',\n",
       "  'https://i.ytimg.com/vi/pmjR0Uxprg0/hqdefault.jpg',\n",
       "  'https://i1.sndcdn.com/artworks-000222307080-z9bn9c-t500x500.jpg',\n",
       "  'https://www.beatmashmagazine.com/wp-content/uploads/2017/03/justice-live.jpg'],\n",
       " 'Justice Logo': ['https://cmkt-image-prd.global.ssl.fastly.net/0.1.0/ps/3659435/910/607/m1/fpnw/wm0/justice-logo-.png?1511957022&s=8ec0acea48d1d98b73668cefbb0aadb3',\n",
       "  'https://www.designfreelogoonline.com/wp-content/uploads/2017/08/000859-Goddess-of-Justice-logo-maker-LAW-FIRM-LOGOS-01.png',\n",
       "  'https://as2.ftcdn.net/jpg/01/95/26/03/500_F_195260320_2X6Wwu0bsyeMbGVnTLrk7VAovuR8KEuC.jpg',\n",
       "  'http://cdn.shopify.com/s/files/1/1940/9073/products/Justice-Logo-Badge_grande.png?v=1541071126'],\n",
       " 'Justice Guitarist': ['https://www.guitarplayer.com/.image/ar_16:9%2Cc_fill%2Ccs_srgb%2Cfl_progressive%2Cg_faces:center%2Cq_auto:good%2Cw_768/MTU4MjU4MDI0MTQ0NzA5NTU4/metallica-gp.jpg',\n",
       "  'http://assets.blabbermouth.net/media/zoltanbathoeyfivefingerdeathpunchwash_638.jpg',\n",
       "  'https://townsquare.media/site/366/files/2015/01/Kirk-Hammett-Ethan-Miller.jpg?w=980&q=75',\n",
       "  'https://i.pinimg.com/originals/47/88/10/478810a695d1eb9652df22b31cec7987.jpg'],\n",
       " 'Justice Drummer': ['https://i.ytimg.com/vi/-5QrmJxrqj4/hqdefault.jpg',\n",
       "  'https://gp1.wac.edgecastcdn.net/802892/http_public_production/artists/images/4520760/original/resize:600x768/crop:x0y86w546h408/aspect:1.0/hash:1467601738/1416461777_e3c7c4e14773ebe78616b58d26862a599dd8fd65.jpg?1467601738',\n",
       "  'https://assets.2ser.com/wp-content/aws/uploads/2018/12/02063218/Nadine-and-Lone-Drummer-Mystery-Bay-Beach-685x368.jpg',\n",
       "  'https://i.ytimg.com/vi/V7n1PS7EcPY/hqdefault.jpg'],\n",
       " 'Justice Bassist': ['https://d.facdn.net/art/wingedneko/1265756481/1265756481.wingedneko_uftg07_18.jpg',\n",
       "  'https://music.mxdwn.com/wp-content/uploads/2017/07/MA_Metallica_07292017_007-770x470.jpg',\n",
       "  'https://townsquare.media/site/366/files/2017/02/metallica_016.jpg',\n",
       "  'https://bassmusicianmagazine.com/wp-content/uploads/2013/04/Bass-Player-Derek-Frank-To-Tour-With-Victoria-Justice.png'],\n",
       " 'Justice Singer': ['http://factmag-images.s3.amazonaws.com/wp-content/uploads/2013/07/justice-d.a.n.c.e.-larry-levan-michael-jackson-7.30.2013.jpg',\n",
       "  'http://wide-wallpapers.net/wp-content/uploads/walls/thumbs/Singer-Victoria-Justice-600x375.jpg',\n",
       "  'http://www1.pictures.zimbio.com/pc/Victoria+Justice+Victoria+Justice+Films+Music+SycdOBKnj4Fl.jpg',\n",
       "  'https://www.billboard.com/files/styles/article_main_image/public/media/victoria-justice-performing-650-430.jpg'],\n",
       " 'Justice Keyboardist': ['https://images.thestar.com/AqYCjwkuAX7hzmyCAky-ALvo7AE=/1086x716/smart/filters:cb(2700061000)/https://www.thestar.com/content/dam/thestar/entertainment/music/2013/08/07/exblue_rodeo_keyboardist_james_gray_dead_at_52/james_gray.jpg',\n",
       "  'https://pbs.twimg.com/profile_images/378800000624770904/6e114c40f58a5339849295875d118671_400x400.jpeg',\n",
       "  'https://img.huffingtonpost.com/asset/5cd9d2862100005900802c04.jpeg?ops=scalefit_630_noupscale',\n",
       "  'https://www.innerviews.org/inner/kerzner/kerznerhead.png']}"
      ]
     },
     "execution_count": 12,
     "metadata": {},
     "output_type": "execute_result"
    }
   ],
   "source": [
    "image_dict"
   ]
  },
  {
   "cell_type": "code",
   "execution_count": 10,
   "metadata": {},
   "outputs": [
    {
     "name": "stdout",
     "output_type": "stream",
     "text": [
      "Folder already created.\n",
      "Image Search Keywords:The Main Squeeze Live\n",
      "Do you want to specify parameters? (Y/N)n\n"
     ]
    }
   ],
   "source": [
    "from imagesoup import ImageSoup \n",
    "import requests\n",
    "import datetime\n",
    "import os\n",
    "import sqlite3 as sql\n",
    "import base64\n",
    "import pandas as pd\n",
    "\n",
    "\n",
    "soup = ImageSoup()\n",
    "\n",
    "date = datetime.datetime.today()\n",
    "todays_date = datetime.datetime.now().strftime(\"%d.%m.%y\")\n",
    "imgblobs = []\n",
    "\n",
    "image_preferences = '''\n",
    "    image_size: string, tuple(width, height)\n",
    "    Find images in any size you need.\n",
    "    (width, height)\n",
    "    icon\n",
    "    medium\n",
    "    large\n",
    "    400x300+\n",
    "    640x480+\n",
    "    800x600+\n",
    "    1024x768+\n",
    "    2mp+\n",
    "    4mp+\n",
    "    8mp+\n",
    "    10mp+\n",
    "    12mp+\n",
    "    15mp+\n",
    "    20mp+\n",
    "    40mp+\n",
    "    70mp+\n",
    "    aspect_ratio: string\n",
    "    Specify the shape of images.\n",
    "    tall\n",
    "    square\n",
    "    wide\n",
    "    panoramic\n",
    "    '''  \n",
    "\n",
    "\n",
    "try: \n",
    "    os.makedirs(\"concertopedia_links_\"+todays_date)\n",
    "except:\n",
    "    print(\"Folder already created.\")\n",
    "    \n",
    "\n",
    "folder = \"concertopedia_links_\"+str(todays_date)\n",
    "\n",
    "search_term = input('Image Search Keywords:')\n",
    "parameters = input('Do you want to specify parameters? (Y/N)')\n",
    "# image_size = '640x480+'\n",
    "\n",
    "if parameters != 'Y':\n",
    "    image_size='640x480+'\n",
    "    aspect_ratio='square'\n",
    "    n_images=4\n",
    "    try:\n",
    "        images = soup.search(search_term, image_size=image_size, aspect_ratio=aspect_ratio, n_images=n_images)\n",
    "        links = [y.URL for y in images]\n",
    "        counter = 0\n",
    "        df = {'url':links,'search_term':search_term, 'image_size':image_size, 'image_size':image_size, 'aspect_ratio':aspect_ratio}\n",
    "    except:\n",
    "        print(\"SEARCH ERROR\")\n",
    "\n",
    "    try:\n",
    "        for y in links:\n",
    "            r = requests.get(y, allow_redirects=True)\n",
    "            counter += 1\n",
    "            filename = folder+'\\\\'+str(search_term)+'_'+str(counter)+'.jpeg'\n",
    "            open(filename, 'wb').write(r.content)\n",
    "            with open(filename, \"rb\") as imageFile:\n",
    "                imgblob = base64.b64encode(imageFile.read())\n",
    "            imgblobs.append(imgblob)\n",
    "    except:\n",
    "        print(\"DOWNLOAD ERROR\")\n",
    "\n",
    "else:\n",
    "    print(image_preferences)\n",
    "    image_size = input('Input Image Size Preferences (See Above):')\n",
    "    aspect_ratio = input('Input Aspect Ratio (See Above):')\n",
    "    n_images = max(10,int(input('Input Desired Image Quantity (Max 10):')))\n",
    "    \n",
    "    try:\n",
    "        images = soup.search(search_term, image_size=image_size, aspect_ratio=aspect_ratio, n_images=n_images)\n",
    "        links = [y.URL for y in images]\n",
    "        counter = 0\n",
    "        df = {'url':links,'search_term':search_term, 'image_size':image_size, 'image_size':image_size, 'aspect_ratio':aspect_ratio}\n",
    "    except:\n",
    "        print(\"SEARCH ERROR\")\n",
    "\n",
    "    try:\n",
    "        for y in links:\n",
    "            r = requests.get(y, allow_redirects=True)\n",
    "            counter += 1\n",
    "            filename = folder+'\\\\'+str(search_term)+'_'+str(counter)+'.jpeg'\n",
    "            open(filename, 'wb').write(r.content)\n",
    "            with open(filename, \"rb\") as imageFile:\n",
    "                imgblob = base64.b64encode(imageFile.read())\n",
    "                imgblobs.append(imgblob)\n",
    "    except:\n",
    "        print(\"DOWNLOAD ERROR\")  \n",
    "\n",
    "try:\n",
    "    con = sql.connect('concertopedia.db')\n",
    "except:\n",
    "    print('Database connection error')\n",
    "\n",
    "data = {'url':links,'search_term':search_term, 'image_size':image_size, 'aspect_ratio':aspect_ratio, 'date':date, 'image_blob':imgblobs}\n",
    "df = pd.DataFrame(data)\n",
    "df.to_sql('image_scrapes', con=con, if_exists='append', index=False)\n"
   ]
  },
  {
   "cell_type": "code",
   "execution_count": 7,
   "metadata": {},
   "outputs": [
    {
     "data": {
      "text/plain": [
       "212952"
      ]
     },
     "execution_count": 7,
     "metadata": {},
     "output_type": "execute_result"
    }
   ],
   "source": [
    "len(df['image_blob'][0])"
   ]
  },
  {
   "cell_type": "code",
   "execution_count": 43,
   "metadata": {},
   "outputs": [
    {
     "data": {
      "text/plain": [
       "datetime.datetime(2019, 7, 20, 19, 14, 40, 7281)"
      ]
     },
     "execution_count": 43,
     "metadata": {},
     "output_type": "execute_result"
    }
   ],
   "source": []
  },
  {
   "cell_type": "code",
   "execution_count": 23,
   "metadata": {},
   "outputs": [],
   "source": []
  },
  {
   "cell_type": "code",
   "execution_count": 2,
   "metadata": {},
   "outputs": [],
   "source": [
    "import pandas as pd"
   ]
  },
  {
   "cell_type": "code",
   "execution_count": 45,
   "metadata": {},
   "outputs": [],
   "source": [
    "con = sql.connect('concertopedia.db')"
   ]
  },
  {
   "cell_type": "code",
   "execution_count": 9,
   "metadata": {},
   "outputs": [
    {
     "data": {
      "text/plain": [
       "<sqlite3.Cursor at 0x1f62b1b8ea0>"
      ]
     },
     "execution_count": 9,
     "metadata": {},
     "output_type": "execute_result"
    }
   ],
   "source": [
    "con.execute('CREATE TABLE image_scrapes(url TEXT, search_term VARCHAR(255), image_size VARCHAR(35), aspect_ratio VARCHAR(35), date TEXT, image_blob BLOB)')"
   ]
  },
  {
   "cell_type": "code",
   "execution_count": 57,
   "metadata": {},
   "outputs": [],
   "source": [
    "def insert_picture(con, picture_file):\n",
    "    with open(picture_file, 'rb') as input_file:\n",
    "        ablob = input_file.read()\n",
    "        base=os.path.basename(picture_file)\n",
    "        afile, ext = os.path.splitext(base)\n",
    "        \n",
    "        con.execute(sql,[sql.Binary(ablob), ext, afile]) \n",
    "        con.commit()"
   ]
  },
  {
   "cell_type": "code",
   "execution_count": 54,
   "metadata": {},
   "outputs": [
    {
     "data": {
      "text/plain": [
       "ImageResult('https://www.thoughtco.com/thmb/DPUsszrxQNJhTNw0oMGb76l3zag=/1430x1430/smart/filters:no_upscale()/the-roman-coliseum-in-the-early-morning-655490208-5abd1d0f119fa80037ef98b9.jpg')"
      ]
     },
     "execution_count": 54,
     "metadata": {},
     "output_type": "execute_result"
    }
   ],
   "source": [
    "images[0]"
   ]
  },
  {
   "cell_type": "code",
   "execution_count": 58,
   "metadata": {
    "collapsed": true
   },
   "outputs": [
    {
     "ename": "AttributeError",
     "evalue": "'str' object has no attribute 'Binary'",
     "output_type": "error",
     "traceback": [
      "\u001b[1;31m---------------------------------------------------------------------------\u001b[0m",
      "\u001b[1;31mAttributeError\u001b[0m                            Traceback (most recent call last)",
      "\u001b[1;32m<ipython-input-58-78d7e5f4b32c>\u001b[0m in \u001b[0;36m<module>\u001b[1;34m\u001b[0m\n\u001b[1;32m----> 1\u001b[1;33m \u001b[0minsert_picture\u001b[0m\u001b[1;33m(\u001b[0m\u001b[0mcon\u001b[0m\u001b[1;33m,\u001b[0m\u001b[0mfilename\u001b[0m\u001b[1;33m)\u001b[0m\u001b[1;33m\u001b[0m\u001b[0m\n\u001b[0m",
      "\u001b[1;32m<ipython-input-57-762c75a3cda3>\u001b[0m in \u001b[0;36minsert_picture\u001b[1;34m(con, picture_file)\u001b[0m\n\u001b[0;32m      7\u001b[0m         \u001b[1;33m(\u001b[0m\u001b[0mPICTURE\u001b[0m\u001b[1;33m,\u001b[0m \u001b[0mTYPE\u001b[0m\u001b[1;33m,\u001b[0m \u001b[0mFILE_NAME\u001b[0m\u001b[1;33m)\u001b[0m\u001b[1;33m\u001b[0m\u001b[0m\n\u001b[0;32m      8\u001b[0m         VALUES(?, ?, ?);'''\n\u001b[1;32m----> 9\u001b[1;33m         \u001b[0mcon\u001b[0m\u001b[1;33m.\u001b[0m\u001b[0mexecute\u001b[0m\u001b[1;33m(\u001b[0m\u001b[0msql\u001b[0m\u001b[1;33m,\u001b[0m\u001b[1;33m[\u001b[0m\u001b[0msql\u001b[0m\u001b[1;33m.\u001b[0m\u001b[0mBinary\u001b[0m\u001b[1;33m(\u001b[0m\u001b[0mablob\u001b[0m\u001b[1;33m)\u001b[0m\u001b[1;33m,\u001b[0m \u001b[0mext\u001b[0m\u001b[1;33m,\u001b[0m \u001b[0mafile\u001b[0m\u001b[1;33m]\u001b[0m\u001b[1;33m)\u001b[0m\u001b[1;33m\u001b[0m\u001b[0m\n\u001b[0m\u001b[0;32m     10\u001b[0m         \u001b[0mcon\u001b[0m\u001b[1;33m.\u001b[0m\u001b[0mcommit\u001b[0m\u001b[1;33m(\u001b[0m\u001b[1;33m)\u001b[0m\u001b[1;33m\u001b[0m\u001b[0m\n",
      "\u001b[1;31mAttributeError\u001b[0m: 'str' object has no attribute 'Binary'"
     ]
    }
   ],
   "source": [
    "insert_picture(con,filename)"
   ]
  },
  {
   "cell_type": "code",
   "execution_count": 60,
   "metadata": {},
   "outputs": [
    {
     "name": "stdout",
     "output_type": "stream",
     "text": [
      "b'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'\n"
     ]
    }
   ],
   "source": [
    "import base64\n",
    " \n",
    "with open(filename, \"rb\") as imageFile:\n",
    "    imgblob = base64.b64encode(imageFile.read())\n",
    "    print(imgblob)"
   ]
  },
  {
   "cell_type": "code",
   "execution_count": 2,
   "metadata": {},
   "outputs": [
    {
     "ename": "NameError",
     "evalue": "name 'df' is not defined",
     "output_type": "error",
     "traceback": [
      "\u001b[1;31m---------------------------------------------------------------------------\u001b[0m",
      "\u001b[1;31mNameError\u001b[0m                                 Traceback (most recent call last)",
      "\u001b[1;32m<ipython-input-2-00cf07b74dcd>\u001b[0m in \u001b[0;36m<module>\u001b[1;34m\u001b[0m\n\u001b[1;32m----> 1\u001b[1;33m \u001b[0mdf\u001b[0m\u001b[1;33m\u001b[0m\u001b[0m\n\u001b[0m",
      "\u001b[1;31mNameError\u001b[0m: name 'df' is not defined"
     ]
    }
   ],
   "source": [
    "df"
   ]
  },
  {
   "cell_type": "code",
   "execution_count": null,
   "metadata": {},
   "outputs": [],
   "source": []
  }
 ],
 "metadata": {
  "kernelspec": {
   "display_name": "Python 3",
   "language": "python",
   "name": "python3"
  },
  "language_info": {
   "codemirror_mode": {
    "name": "ipython",
    "version": 3
   },
   "file_extension": ".py",
   "mimetype": "text/x-python",
   "name": "python",
   "nbconvert_exporter": "python",
   "pygments_lexer": "ipython3",
   "version": "3.6.6"
  }
 },
 "nbformat": 4,
 "nbformat_minor": 2
}
